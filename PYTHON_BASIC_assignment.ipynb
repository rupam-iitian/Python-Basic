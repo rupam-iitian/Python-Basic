{
  "nbformat": 4,
  "nbformat_minor": 0,
  "metadata": {
    "colab": {
      "provenance": []
    },
    "kernelspec": {
      "name": "python3",
      "display_name": "Python 3"
    },
    "language_info": {
      "name": "python"
    }
  },
  "cells": [
    {
      "cell_type": "markdown",
      "source": [
        "# **PYTHON BASIC ASSIGNMENT**"
      ],
      "metadata": {
        "id": "gQcnYmrArCuP"
      }
    },
    {
      "cell_type": "markdown",
      "source": [
        "## *THEORY QUESTIONS ANSWERS*"
      ],
      "metadata": {
        "id": "BSn77vZ1DgyY"
      }
    },
    {
      "cell_type": "markdown",
      "source": [
        "1 **What is Python, and why is it popular** ?\n",
        "  - Python is a high-level, interpreted programming language known for its simplicity and readability. Created by Guido van Rossum in the late 1980s and first released in 1991, Python is designed to be easy to understand and write, making it a popular choice for both beginners and experienced developers.\n",
        "\n",
        "Here are some key reasons why Python is so popular:\n",
        "\n",
        "### 1. **Easy to Learn and Use**\n",
        "   - Python has a simple and clean syntax that mimics natural language, which makes it great for beginners.\n",
        "   - Its indentation-based structure makes the code more readable, reducing the need for complicated punctuation like braces or semicolons.\n",
        "\n",
        "### 2. **Versatile**\n",
        "   - Python can be used for various types of projects, including web development, data analysis, machine learning, automation, scientific computing, and more.\n",
        "   - With libraries and frameworks like Django (web), TensorFlow (AI/ML), and pandas (data analysis), Python has extensive support for many fields.\n",
        "\n",
        "### 3. **Large Community and Libraries**\n",
        "   - Python has a massive community, which means it’s easy to find tutorials, forums, or libraries that can help with any project.\n",
        "   - There are thousands of third-party packages and libraries available for just about any task, which makes coding more efficient and convenient.\n",
        "\n",
        "### 4. **Cross-Platform Compatibility**\n",
        "   - Python runs on a variety of platforms (Windows, macOS, Linux), allowing developers to write cross-platform applications with minimal changes to the codebase.\n",
        "\n",
        "### 5. **Open Source**\n",
        "   - Python is open-source, meaning anyone can contribute to its development and use it without cost. This has helped the language grow rapidly.\n",
        "\n",
        "### 6. **Used by Major Companies**\n",
        "   - Python is widely used by tech giants such as Google, Facebook, Instagram, Spotify, and Netflix, among others. It’s trusted for building both simple and complex systems.\n",
        "\n",
        "### 7. **Strong Support for Integration**\n",
        "   - Python can be easily integrated with other languages like C, C++, and Java. It also supports a variety of databases, making it ideal for data-driven applications.\n",
        "\n",
        "### 8. **Strong for Data Science and Machine Learning**\n",
        "   - Python is the language of choice for data scientists and machine learning engineers because of its libraries like NumPy, SciPy, pandas, Matplotlib, and TensorFlow.\n",
        "\n",
        "### 9. **Continuous Development**\n",
        "   - Python is actively maintained and improved, with new features and enhancements being added regularly by the Python Software Foundation.\n",
        "In summary, Python's popularity stems from its ease of use, versatility, and a rich ecosystem of libraries that allow developers to accomplish nearly any task efficiently. Whether you’re just starting or an experienced programmer, Python's broad applicability and vibrant community make it an excellent choice for many kinds of projects."
      ],
      "metadata": {
        "id": "C2Z8nr75aiyi"
      }
    },
    {
      "cell_type": "markdown",
      "source": [
        "2. **What is an interpreter in Python?**\n",
        "  \n",
        "  -An **interpreter** in Python is a program that reads and executes Python code line by line. It translates the high-level Python code into machine-readable instructions (bytecode) that the computer can understand and execute.\n",
        "\n",
        "Here's how it works:\n",
        "\n",
        "1. **Reads the code**: The Python interpreter processes the Python script, reading each line of code.\n",
        "2. **Converts to bytecode**: It translates the code into an intermediate form called bytecode, which is then executed by the Python Virtual Machine (PVM).\n",
        "3. **Executes line by line**: Unlike compiled languages (where the entire code is translated before execution), Python's interpreter executes the code line by line, which allows for easier debugging and development.\n",
        "\n",
        "This process makes Python flexible and easy to use, but also typically slower than compiled languages, as the code is translated at runtime rather than beforehand."
      ],
      "metadata": {
        "id": "tR9-XcTEkpr-"
      }
    },
    {
      "cell_type": "markdown",
      "source": [
        "3. **What are pre-defined keywords in Python?**\n",
        "\n",
        "   -In Python, **pre-defined keywords** (also known as **reserved words**) are words that have special meanings and cannot be used as variable names, function names, or identifiers. These keywords define the syntax and structure of Python.\n",
        "\n",
        "### ✅ **List of Python Keywords (as of Python 3.11)**\n",
        "Here are Python’s built-in keywords:\n",
        "\n",
        "```\n",
        "False      await      else       import     pass\n",
        "None       break      except     in         raise\n",
        "True       class      finally    is         return\n",
        "and        continue   for        lambda     try\n",
        "as         def        from       nonlocal   while\n",
        "assert     del        global     not        with\n",
        "async      elif       if         or         yield\n",
        "```\n",
        "\n",
        "### 🔹 **Categories of Keywords**\n",
        "1. **Boolean Values:** `True`, `False`, `None`\n",
        "2. **Conditional Statements:** `if`, `elif`, `else`\n",
        "3. **Loops:** `for`, `while`, `break`, `continue`\n",
        "4. **Exception Handling:** `try`, `except`, `finally`, `raise`, `assert`\n",
        "5. **Functions and Classes:** `def`, `return`, `lambda`, `class`\n",
        "6. **Variable Scope:** `global`, `nonlocal`\n",
        "7. **Logical Operators:** `and`, `or`, `not`, `is`, `in`\n",
        "8. **Importing Modules:** `import`, `from`, `as`\n",
        "9. **Async Programming:** `async`, `await`\n",
        "10. **Others:** `del`, `with`, `pass`, `yield`\n"
      ],
      "metadata": {
        "id": "9t4aeet2rGZw"
      }
    },
    {
      "cell_type": "markdown",
      "source": [
        "**4 Can keywords be used as variable names?**\n",
        "\n",
        "\n",
        "  -No, **keywords cannot be used as variable names** in Python because they are reserved for special purposes in the language. If you try to use a keyword as a variable name, Python will raise a **SyntaxError**.\n",
        "\n",
        "### ❌ **Example (Invalid Code)**\n",
        "```python\n",
        "if = 10  # ❌ This will cause a SyntaxError\n",
        "print(if)\n",
        "```\n",
        "**Error:**\n",
        "```\n",
        "SyntaxError: invalid syntax\n",
        "```\n",
        "\n"
      ],
      "metadata": {
        "id": "eLKRxqcctZx-"
      }
    },
    {
      "cell_type": "markdown",
      "source": [
        "**5.  What is mutability in Python?**\n",
        "\n",
        "  -In Python, mutability refers to whether an object's state (i.e., its data or content) can be changed after it is created. Python objects are categorized as either **mutable** or **immutable** based on this property.\n",
        "\n",
        "### 1. **Mutable Objects**\n",
        "Mutable objects can be modified after they are created. This means you can change their content without changing their identity (memory address). Examples of mutable objects in Python include:\n",
        "- Lists can add, remove, or modify elements.\n",
        "- Dictionaries can add, remove, or update key-value pairs.\n",
        "- Bytearrays can modify the contents of the bytearray.\n",
        "\n",
        "Example:\n",
        "\n",
        "my_list = [1, 2, 3]\n",
        "my_list[0] = 10  # Modifying the list\n",
        "print(my_list)  # Output: [10, 2, 3]\n",
        "\n",
        "\n",
        "### Key Points About Mutability\n",
        "- **Identity**: The identity of an object (its memory address) remains the same for mutable objects when modified, but changes for immutable objects when \"modified.\"\n",
        "- **Performance**: Mutable objects are generally more efficient for frequent modifications, while immutable objects are safer for concurrent programming and can be used as keys in dictionaries.\n",
        "- **Behavior**: Immutable objects are hashable (can be used as dictionary keys), while mutable objects are not (unless they are specifically designed to be hashable, like a frozen set).\n",
        "\n",
        "### Example of Mutability in Action\n",
        "```python\n",
        "# Mutable example\n",
        "a = [1, 2, 3]\n",
        "b = a\n",
        "b[0] = 99\n",
        "print(a)  # Output: [99, 2, 3] (a is modified because lists are mutable)\n",
        "\n",
        "Understanding mutability is crucial for writing efficient and bug-free Python code, especially when dealing with data structures and object references."
      ],
      "metadata": {
        "id": "_Eo1NEUxQdUi"
      }
    },
    {
      "cell_type": "markdown",
      "source": [
        "**6. Why are lists mutable, but tuples are immutable?**\n",
        "\n",
        "   -The distinction between **lists** (mutable) and **tuples** (immutable) in Python is intentional and serves different use cases. Here's why Python designers made this choice:\n",
        "\n",
        "### 1. **Purpose and Use Cases**\n",
        "- **Lists** are designed to hold collections of items that may need to change over time. For example:\n",
        "  - Adding or removing elements.\n",
        "  - Modifying elements in place.\n",
        "  - Being used as dynamic data structures (e.g., stacks, queues).\n",
        "- **Tuples** are designed to hold collections of items that should not change. For example:\n",
        "  - Representing fixed collections of data (e.g., coordinates `(x, y)`).\n",
        "  - Being used as keys in dictionaries (because they are immutable and hashable).\n",
        "  - Ensuring data integrity by preventing modifications.\n",
        "\n",
        "### 2. **Performance and Optimization**\n",
        "- **Lists** are mutable to allow efficient modifications. Python optimizes lists for operations like appending, inserting, and removing elements.\n",
        "- **Tuples** are immutable, which makes them more memory-efficient and faster to access. Since their size and content cannot change, Python can optimize their storage and retrieval.\n",
        "\n",
        "### 3. **Safety and Predictability**\n",
        "- **Lists** being mutable allows flexibility but requires caution when sharing them between parts of a program. Changes to a list in one place can affect other parts of the program that reference the same list.\n",
        "- **Tuples** being immutable ensures that once created, their content cannot be accidentally modified. This makes them safer for use in scenarios where data integrity is critical (e.g., as dictionary keys or in multi-threaded environments).\n",
        "\n",
        "### 4. **Hashability**\n",
        "- **Tuples** are immutable, which makes them **hashable**. This means they can be used as keys in dictionaries or elements in sets. For example:\n",
        "  ```python\n",
        "  my_dict = {(1, 2): \"value\"}  # Valid because tuples are hashable\n",
        "  ```\n",
        "- **Lists** are mutable and therefore **not hashable**. They cannot be used as dictionary keys or set elements:\n",
        "  ```python\n",
        "  # my_dict = {[1, 2]: \"value\"}  # This would raise a TypeError\n",
        "\n",
        "### 5. **Semantic Meaning**\n",
        "- **Lists** imply a collection of items that can grow, shrink, or change over time. For example:\n",
        "  ```python\n",
        "  shopping_list = [\"apples\", \"bananas\", \"milk\"]\n",
        "  shopping_list.append(\"bread\")  # Makes sense for a shopping list\n",
        "  ```\n",
        "- **Tuples** imply a fixed collection of items that represent a single entity or record. For example:\n",
        "  ```python\n",
        "  point = (3, 4)  # Represents a fixed point in 2D space\n",
        "\n",
        "\n",
        "- **Lists are mutable** to provide flexibility for dynamic data collections.\n",
        "- **Tuples are immutable** to ensure safety, efficiency, and hashability for fixed data collections.\n",
        "\n",
        "This design choice reflects Python's philosophy of having clear, distinct tools for different tasks, allowing developers to choose the right data structure for their needs."
      ],
      "metadata": {
        "id": "UtvvFVZ4Ua-i"
      }
    },
    {
      "cell_type": "markdown",
      "source": [
        "**7. What is the difference between “==” and “is” operators in Python?**\n",
        "\n",
        "  -In Python, the `==` and `is` operators serve different purposes and are used to compare objects in distinct ways:\n",
        "\n",
        "### 1. **`==` (Equality Operator)**\n",
        "   - **Purpose**: Checks if the **values** of two objects are equal.\n",
        "   - **Behavior**: It compares the contents or values of the objects, not their identities.\n",
        "   - **Example**:\n",
        "     ```python\n",
        "     a = [1, 2, 3]\n",
        "     b = [1, 2, 3]\n",
        "     print(a == b)  # True, because the lists have the same values\n",
        "     ```\n",
        "   - **Use Case**: Use `==` when you want to check if two objects have the same value or content.\n",
        "\n",
        "### 2. **`is` (Identity Operator)**\n",
        "   - **Purpose**: Checks if two objects are the **same object in memory** (i.e., they have the same identity).\n",
        "   - **Behavior**: It compares the memory addresses (identities) of the objects, not their values.\n",
        "   - **Example**:\n",
        "     ```python\n",
        "     a = [1, 2, 3]\n",
        "     b = [1, 2, 3]\n",
        "     print(a is b)  # False, because `a` and `b` are different objects in memory\n",
        "     ```\n",
        "   - **Use Case**: Use `is` when you want to check if two variables point to the exact same object.\n",
        "\n",
        "### Key Differences:\n",
        "| **Operator** | **Checks**                     | **Example**                          |\n",
        "|--------------|--------------------------------|--------------------------------------|\n",
        "| `==`         | Value equality                 | `[1, 2, 3] == [1, 2, 3]` → `True`   |\n",
        "| `is`         | Identity (same object in memory)| `[1, 2, 3] is [1, 2, 3]` → `False`  |\n",
        "\n",
        "\n",
        "However, this behavior is implementation-specific and should not be relied upon for general comparisons. Always use `==` for value equality and `is` for identity checks."
      ],
      "metadata": {
        "id": "r6x34NcZkySj"
      }
    },
    {
      "cell_type": "markdown",
      "source": [],
      "metadata": {
        "id": "J8M9pah0V2cw"
      }
    },
    {
      "cell_type": "markdown",
      "source": [
        "**8. What are logical operators in Python?**\n",
        "\n",
        "  -In Python, logical operators are used to combine conditional statements:\n",
        "\n",
        "1. **`and`** - Returns `True` if both conditions are true.\n",
        "2. **`or`** - Returns `True` if at least one condition is true.\n",
        "3. **`not`** - Reverses the result, returns `False` if the condition is true.\n",
        "\n",
        "Example:\n",
        "```python\n",
        "x = 5\n",
        "print(x > 3 and x < 10)  # True\n",
        "print(x > 3 or x < 4)    # True\n",
        "print(not(x > 3))        # False\n"
      ],
      "metadata": {
        "id": "XzUtbk8EnT4V"
      }
    },
    {
      "cell_type": "markdown",
      "source": [
        "**9. What is type casting in Python?**\n",
        "\n",
        "  -Type casting in Python is the process of converting a value from one data type to another. This is done using built-in functions like:\n",
        "\n",
        "1. **`int()`** - Converts to an integer.\n",
        "2. **`float()`** - Converts to a floating-point number.\n",
        "3. **`str()`** - Converts to a string.\n",
        "4. **`bool()`** - Converts to a boolean.\n",
        "\n",
        "Example:\n",
        "\n",
        "x = 10\n",
        "y = float(x)  # Converts integer to float (10.0)\n",
        "z = str(x)    # Converts integer to string (\"10\")\n",
        "a = bool(x)   # Converts integer to boolean (True)\n",
        "\n"
      ],
      "metadata": {
        "id": "kWwsFVdGqPLq"
      }
    },
    {
      "cell_type": "markdown",
      "source": [
        "**10.  What is the difference between implicit and explicit type casting?**\n",
        "\n",
        "  -- **Implicit Type Casting**: Python automatically converts one data type to another without user intervention. For example, adding an integer and a float results in a float.\n",
        "  ```python\n",
        "  x = 5    # int\n",
        "  y = 2.0  # float\n",
        "  z = x + y  # Result is float (7.0)\n",
        "  \n",
        "- **Explicit Type Casting**: The programmer manually converts a data type using functions like `int()`, `float()`, `str()`, etc.\n",
        "  ```python\n",
        "  x = \"10\"\n",
        "  y = int(x)  # Explicitly convert string to int (10)\n",
        "  "
      ],
      "metadata": {
        "id": "YzKR5nDcrNh7"
      }
    },
    {
      "cell_type": "markdown",
      "source": [
        "**11.What is the purpose of conditional statements in Python?**\n",
        "\n",
        "  -The purpose of **conditional statements** in Python is to control the flow of a program by executing specific blocks of code based on whether a condition is `True` or `False`. They allow the program to make decisions and perform different actions depending on the situation.\n",
        "\n",
        "### Key Conditional Statements:\n",
        "1. **`if`**: Executes a block of code if the condition is true.\n",
        "2. **`elif`**: Checks additional conditions if the previous ones are false.\n",
        "3. **`else`**: Executes a block of code if all conditions are false.\n",
        "\n",
        "### Purpose:\n",
        "- **Decision Making**: Enables the program to choose between different paths based on conditions.\n",
        "- **Flexibility**: Allows dynamic behavior in response to user input or other variables.\n",
        "- **Error Handling**: Helps manage different scenarios, such as invalid inputs or edge cases.\n",
        "\n",
        "Example:\n",
        "\n",
        "age = 18\n",
        "if age >= 18:\n",
        "    print(\"You are an adult.\")\n",
        "else:\n",
        "    print(\"You are a minor.\")"
      ],
      "metadata": {
        "id": "Atnbc3Csr1Gk"
      }
    },
    {
      "cell_type": "markdown",
      "source": [
        "**12.How does the elif statement work?**\n",
        "\n",
        "  -The **`elif`** statement in Python is short for \"else if.\" It is used to check multiple conditions in sequence after an initial `if` statement. If the `if` condition is `False`, Python evaluates the `elif` condition. If the `elif` condition is `True`, its block of code is executed, and the rest of the `elif` and `else` blocks are skipped.\n",
        "\n",
        "### How it works:\n",
        "1. The `if` condition is checked first.\n",
        "2. If the `if` condition is `False`, the `elif` condition is evaluated.\n",
        "3. If the `elif` condition is `True`, its block of code runs.\n",
        "4. If all `elif` conditions are `False`, the `else` block (if present) is executed.\n",
        "\n",
        "### Example:\n",
        "\n",
        "x = 10\n",
        "\n",
        "if x > 15:\n",
        "    print(\"x is greater than 15\")\n",
        "elif x > 10:\n",
        "    print(\"x is greater than 10 but less than or equal to 15\")\n",
        "elif x == 10:\n",
        "    print(\"x is exactly 10\")\n",
        "else:\n",
        "    print(\"x is less than 10\")\n",
        "\n",
        "### Output:\n",
        "x is exactly 10\n",
        "\n",
        "### Key Points:\n",
        "- You can have multiple `elif` statements to check for various conditions.\n",
        "- Only the first `True` condition's block is executed; the rest are ignored.\n",
        "- `elif` must follow an `if` statement and precede an optional `else` statement."
      ],
      "metadata": {
        "id": "o2Bwu40gseW_"
      }
    },
    {
      "cell_type": "markdown",
      "source": [
        "**13.What is the difference between for and while loop?**\n",
        "\n",
        "  -The **`for`** and **`while`** loops in Python are used for iteration, but they differ in how they operate:\n",
        "\n",
        "### **`for` Loop**:\n",
        "- Iterates over a sequence (e.g., list, tuple, string, or range).\n",
        "- The number of iterations is determined by the length of the sequence.\n",
        "- Commonly used when the number of iterations is known.\n",
        "\n",
        "Example:\n",
        "\n",
        "for i in range(3):  # Runs 3 times\n",
        "    print(i)\n",
        "\n",
        "### **`while` Loop**:\n",
        "- Repeats a block of code as long as a condition is `True`.\n",
        "- The number of iterations is not fixed and depends on the condition.\n",
        "- Commonly used when the number of iterations is unknown.\n",
        "\n",
        "Example:\n",
        "\n",
        "x = 0\n",
        "while x < 3:  # Runs until x >= 3\n",
        "    print(x)\n",
        "    x += 1\n",
        "```\n",
        "\n",
        "### Key Difference:\n",
        "- **`for`**: Iterates over a sequence (fixed iterations).\n",
        "- **`while`**: Repeats until a condition becomes `False` (indefinite iterations)."
      ],
      "metadata": {
        "id": "pPT_ZPhYtXAM"
      }
    },
    {
      "cell_type": "markdown",
      "source": [
        "**14. Describe a scenario where a while loop is more suitable than a for loop.**\n",
        "\n",
        "  -A **`while` loop** is more suitable than a **`for` loop** when the number of iterations is **unknown** or depends on a **dynamic condition**.\n",
        "\n",
        "### Example Scenario:\n",
        "**User Input Validation**:\n",
        "- You want to repeatedly ask the user for input until they enter a valid value.\n",
        "- The number of attempts is unknown, so a `while` loop is ideal.\n",
        "\n",
        "valid = False\n",
        "while not valid:\n",
        "    user_input = input(\"Enter a number greater than 10: \")\n",
        "\n",
        "    if user_input.isdigit() and int(user_input) > 10:\n",
        "        valid = True\n",
        "    else:\n",
        "        print(\"Invalid input. Try again.\")\n",
        "\n",
        "\n",
        "### Why `while` is better:\n",
        "- The loop continues until the user provides valid input, which cannot be determined in advance.\n",
        "- A `for` loop would require a fixed number of attempts, making it less flexible for this scenario."
      ],
      "metadata": {
        "id": "sJPyJOaMt9xY"
      }
    },
    {
      "cell_type": "markdown",
      "source": [
        "# **PRACTICAL QUESTIONS ANSWERS**"
      ],
      "metadata": {
        "id": "h62XmFYgsLkQ"
      }
    },
    {
      "cell_type": "markdown",
      "source": [
        "**1.Write a Python program to print \"Hello, World!\"**."
      ],
      "metadata": {
        "id": "zfC1FUERu3x0"
      }
    },
    {
      "cell_type": "code",
      "source": [
        "print(\"Hello, world\")"
      ],
      "metadata": {
        "colab": {
          "base_uri": "https://localhost:8080/",
          "height": 0
        },
        "id": "z1a69RP_vIJ-",
        "outputId": "f6db27d6-ba82-410c-a5f2-394e60af0ec0"
      },
      "execution_count": 28,
      "outputs": [
        {
          "output_type": "stream",
          "name": "stdout",
          "text": [
            "Hello, world\n"
          ]
        }
      ]
    },
    {
      "cell_type": "markdown",
      "source": [
        "**2.  Write a Python program that displays your name and age.**"
      ],
      "metadata": {
        "id": "8EuW7GSfv_sE"
      }
    },
    {
      "cell_type": "code",
      "source": [
        "name = \"Debanjana Dhar\"\n",
        "age = 27\n",
        "print(\"My name is\", name)\n",
        "print(\"I am\", age, \"years old\")"
      ],
      "metadata": {
        "colab": {
          "base_uri": "https://localhost:8080/",
          "height": 0
        },
        "id": "Ge3KTVbKwRS2",
        "outputId": "523ffb9f-a124-41c9-bc47-902021e7ed15"
      },
      "execution_count": 4,
      "outputs": [
        {
          "output_type": "stream",
          "name": "stdout",
          "text": [
            "My name is Debanjana Dhar\n",
            "I am 27 years old\n"
          ]
        }
      ]
    },
    {
      "cell_type": "markdown",
      "source": [
        "**3. Write code to print all the pre-defined keywords in Python using the keyword library.**"
      ],
      "metadata": {
        "id": "uGHGmdq3PoLw"
      }
    },
    {
      "cell_type": "code",
      "source": [
        "import keyword\n",
        "keywords = keyword.kwlist\n",
        "for kw in keywords:\n",
        "    print(kw)"
      ],
      "metadata": {
        "colab": {
          "base_uri": "https://localhost:8080/"
        },
        "id": "kpUPQeyGQ0J1",
        "outputId": "24e64d04-4cb5-488b-fd03-4a5031b01e64"
      },
      "execution_count": null,
      "outputs": [
        {
          "output_type": "stream",
          "name": "stdout",
          "text": [
            "False\n",
            "None\n",
            "True\n",
            "and\n",
            "as\n",
            "assert\n",
            "async\n",
            "await\n",
            "break\n",
            "class\n",
            "continue\n",
            "def\n",
            "del\n",
            "elif\n",
            "else\n",
            "except\n",
            "finally\n",
            "for\n",
            "from\n",
            "global\n",
            "if\n",
            "import\n",
            "in\n",
            "is\n",
            "lambda\n",
            "nonlocal\n",
            "not\n",
            "or\n",
            "pass\n",
            "raise\n",
            "return\n",
            "try\n",
            "while\n",
            "with\n",
            "yield\n"
          ]
        }
      ]
    },
    {
      "cell_type": "markdown",
      "source": [
        "**4.  Write a program that checks if a given word is a Python keyword.**"
      ],
      "metadata": {
        "id": "JMSK7Xn4RNDK"
      }
    },
    {
      "cell_type": "code",
      "source": [
        "import keyword\n",
        "\n",
        "def is_keyword(word):\n",
        "    return keyword.iskeyword(word)\n",
        "\n",
        "word = input(\"Enter a word: \")\n",
        "if is_keyword(word):\n",
        "    print(f\"'{word}' is a Python keyword.\")\n",
        "else:\n",
        "    print(f\"'{word}' is not a Python keyword.\")\n"
      ],
      "metadata": {
        "id": "ohIZOP7bxwdu",
        "outputId": "eb0babd6-d5df-4612-f123-099c01d2a4fa",
        "colab": {
          "base_uri": "https://localhost:8080/",
          "height": 0
        }
      },
      "execution_count": 6,
      "outputs": [
        {
          "output_type": "stream",
          "name": "stdout",
          "text": [
            "Enter a word: print\n",
            "'print' is not a Python keyword.\n"
          ]
        }
      ]
    },
    {
      "cell_type": "markdown",
      "source": [
        "**5.  Create a list and tuple in Python, and demonstrate how attempting to change an element works differently\n",
        "for each**.  "
      ],
      "metadata": {
        "id": "hnO4qKUiDUfK"
      }
    },
    {
      "cell_type": "code",
      "source": [
        "\n",
        "my_list = [1, 2, 3, 4, 5]\n",
        "my_tuple = (1, 2, 3, 4, 5)\n",
        "\n",
        "try:\n",
        "    my_list[2] = 100\n",
        "    print(\"List after modification:\", my_list)\n",
        "except TypeError as e:\n",
        "    print(\"Error modifying list:\", e)\n",
        "\n",
        "try:\n",
        "    my_tuple[2] = 100\n",
        "    print(\"Tuple after modification:\", my_tuple)\n",
        "except TypeError as e:\n",
        "    print(\"Error modifying tuple:\", e)\n"
      ],
      "metadata": {
        "id": "_cZytu48zqOT",
        "outputId": "305330b9-f14f-4fc4-c2f3-70396feb342d",
        "colab": {
          "base_uri": "https://localhost:8080/",
          "height": 0
        }
      },
      "execution_count": 7,
      "outputs": [
        {
          "output_type": "stream",
          "name": "stdout",
          "text": [
            "List after modification: [1, 2, 100, 4, 5]\n",
            "Error modifying tuple: 'tuple' object does not support item assignment\n"
          ]
        }
      ]
    },
    {
      "cell_type": "markdown",
      "source": [
        "**6.  Write a function to demonstrate the behavior of mutable and immutable arguments**."
      ],
      "metadata": {
        "id": "hfeJ9zdlE_r6"
      }
    },
    {
      "cell_type": "code",
      "source": [
        "def modify_values(immutable_value, mutable_value):\n",
        "\n",
        "    immutable_value += 5\n",
        "    print(f\"Inside function, immutable_value: {immutable_value}\")\n",
        "\n",
        "    mutable_value.append(4)\n",
        "    print(f\"Inside function, mutable_value: {mutable_value}\")\n",
        "\n",
        "immutable_example = 10\n",
        "mutable_example = [1, 2, 3]\n",
        "\n",
        "print(f\"Before function call: immutable_example = {immutable_example}, mutable_example = {mutable_example}\")\n",
        "modify_values(immutable_example, mutable_example)\n",
        "print(f\"After function call: immutable_example = {immutable_example}, mutable_example = {mutable_example}\")\n"
      ],
      "metadata": {
        "id": "QVKIm2He3OfI",
        "outputId": "9d8b6ae0-76b4-4f22-bbc3-1b8969d95296",
        "colab": {
          "base_uri": "https://localhost:8080/",
          "height": 0
        }
      },
      "execution_count": 8,
      "outputs": [
        {
          "output_type": "stream",
          "name": "stdout",
          "text": [
            "Before function call: immutable_example = 10, mutable_example = [1, 2, 3]\n",
            "Inside function, immutable_value: 15\n",
            "Inside function, mutable_value: [1, 2, 3, 4]\n",
            "After function call: immutable_example = 10, mutable_example = [1, 2, 3, 4]\n"
          ]
        }
      ]
    },
    {
      "cell_type": "markdown",
      "source": [
        "**7.  Write a function to demonstrate the behavior of mutable and immutable arguments**."
      ],
      "metadata": {
        "id": "dzrOjIrrFcMx"
      }
    },
    {
      "cell_type": "code",
      "source": [
        "def demonstrate_mutable_immutable(immutable_arg, mutable_arg):\n",
        "    print(\"Before modification:\")\n",
        "    print(f\"Immutable argument: {immutable_arg}\")\n",
        "    print(f\"Mutable argument: {mutable_arg}\")\n",
        "\n",
        "    immutable_arg += 10\n",
        "    print(\"\\nInside function after modifying immutable argument:\")\n",
        "    print(f\"Immutable argument: {immutable_arg}\")\n",
        "\n",
        "    mutable_arg.append(100)\n",
        "    print(\"\\nInside function after modifying mutable argument:\")\n",
        "    print(f\"Mutable argument: {mutable_arg}\")\n",
        "\n",
        "immutable_value = 5\n",
        "mutable_value = [1, 2, 3]\n",
        "\n",
        "print(\"Before function call:\")\n",
        "print(f\"Immutable value: {immutable_value}\")\n",
        "print(f\"Mutable value: {mutable_value}\")\n",
        "\n",
        "demonstrate_mutable_immutable(immutable_value, mutable_value)\n",
        "\n",
        "print(\"\\nAfter function call:\")\n",
        "print(f\"Immutable value: {immutable_value}\")\n",
        "print(f\"Mutable value: {mutable_value}\")\n"
      ],
      "metadata": {
        "id": "0pnWSKC63suR",
        "outputId": "3f842845-8fd2-4f78-f9a1-fdf52a7dfd96",
        "colab": {
          "base_uri": "https://localhost:8080/",
          "height": 0
        }
      },
      "execution_count": 9,
      "outputs": [
        {
          "output_type": "stream",
          "name": "stdout",
          "text": [
            "Before function call:\n",
            "Immutable value: 5\n",
            "Mutable value: [1, 2, 3]\n",
            "Before modification:\n",
            "Immutable argument: 5\n",
            "Mutable argument: [1, 2, 3]\n",
            "\n",
            "Inside function after modifying immutable argument:\n",
            "Immutable argument: 15\n",
            "\n",
            "Inside function after modifying mutable argument:\n",
            "Mutable argument: [1, 2, 3, 100]\n",
            "\n",
            "After function call:\n",
            "Immutable value: 5\n",
            "Mutable value: [1, 2, 3, 100]\n"
          ]
        }
      ]
    },
    {
      "cell_type": "markdown",
      "source": [
        "**8.  Write a program to demonstrate the use of logical operators.**"
      ],
      "metadata": {
        "id": "x--dcLO3FqyA"
      }
    },
    {
      "cell_type": "code",
      "source": [
        "def demonstrate_logical_operators(a, b):\n",
        "\n",
        "    if a > 0 and b > 0:\n",
        "        print(f\"Both 'a' ({a}) and 'b' ({b}) are positive numbers.\")\n",
        "    else:\n",
        "        print(f\"At least one of 'a' ({a}) or 'b' ({b}) is non-positive.\")\n",
        "\n",
        "    if a > 0 or b > 0:\n",
        "        print(f\"At least one of 'a' ({a}) or 'b' ({b}) is positive.\")\n",
        "    else:\n",
        "        print(f\"Neither 'a' ({a}) nor 'b' ({b}) is positive.\")\n",
        "\n",
        "    if not a == b:\n",
        "        print(f\"'a' ({a}) and 'b' ({b}) are not equal.\")\n",
        "    else:\n",
        "        print(f\"'a' ({a}) and 'b' ({b}) are equal.\")\n",
        "\n",
        "print(\"Test Case 1:\")\n",
        "demonstrate_logical_operators(5, 3)  # a = 5, b = 3\n",
        "\n",
        "print(\"\\nTest Case 2:\")\n",
        "demonstrate_logical_operators(-1, 4)  # a = -1, b = 4\n",
        "\n",
        "print(\"\\nTest Case 3:\")\n",
        "demonstrate_logical_operators(0, 0)   # a = 0, b = 0\n"
      ],
      "metadata": {
        "id": "zkM-8I7F583R",
        "outputId": "0dfc03a0-1f04-4549-a259-2ce95b40bea4",
        "colab": {
          "base_uri": "https://localhost:8080/",
          "height": 0
        }
      },
      "execution_count": 12,
      "outputs": [
        {
          "output_type": "stream",
          "name": "stdout",
          "text": [
            "Test Case 1:\n",
            "Both 'a' (5) and 'b' (3) are positive numbers.\n",
            "At least one of 'a' (5) or 'b' (3) is positive.\n",
            "'a' (5) and 'b' (3) are not equal.\n",
            "\n",
            "Test Case 2:\n",
            "At least one of 'a' (-1) or 'b' (4) is non-positive.\n",
            "At least one of 'a' (-1) or 'b' (4) is positive.\n",
            "'a' (-1) and 'b' (4) are not equal.\n",
            "\n",
            "Test Case 3:\n",
            "At least one of 'a' (0) or 'b' (0) is non-positive.\n",
            "Neither 'a' (0) nor 'b' (0) is positive.\n",
            "'a' (0) and 'b' (0) are equal.\n"
          ]
        }
      ]
    },
    {
      "cell_type": "markdown",
      "source": [
        "**9.   Write a Python program to convert user input from string to integer, float, and boolean types.**"
      ],
      "metadata": {
        "id": "sCf6HLQIF6lk"
      }
    },
    {
      "cell_type": "code",
      "source": [
        "def convert_user_input():\n",
        "\n",
        "    user_input = input(\"Enter a value: \")\n",
        "\n",
        "    try:\n",
        "        int_value = int(user_input)\n",
        "        print(f\"Converted to integer: {int_value}\")\n",
        "    except ValueError:\n",
        "        print(\"Cannot convert to integer.\")\n",
        "\n",
        "    try:\n",
        "        float_value = float(user_input)\n",
        "        print(f\"Converted to float: {float_value}\")\n",
        "    except ValueError:\n",
        "        print(\"Cannot convert to float.\")\n",
        "\n",
        "    if user_input.lower() in ['true', '1', 't', 'y', 'yes']:\n",
        "        bool_value = True\n",
        "    elif user_input.lower() in ['false', '0', 'f', 'n', 'no']:\n",
        "        bool_value = False\n",
        "    else:\n",
        "        bool_value = False\n",
        "    print(f\"Converted to boolean: {bool_value}\")\n",
        "\n",
        "convert_user_input()\n"
      ],
      "metadata": {
        "colab": {
          "base_uri": "https://localhost:8080/",
          "height": 0
        },
        "id": "gnW7yxYW8qAy",
        "outputId": "8eaa43cd-f403-4580-fa83-36885a5f90c6"
      },
      "execution_count": 13,
      "outputs": [
        {
          "output_type": "stream",
          "name": "stdout",
          "text": [
            "Enter a value: 42\n",
            "Converted to integer: 42\n",
            "Converted to float: 42.0\n",
            "Converted to boolean: False\n"
          ]
        }
      ]
    },
    {
      "cell_type": "code",
      "source": [
        "def convert_user_input():\n",
        "\n",
        "    user_input = input(\"Enter a value: \")\n",
        "\n",
        "    try:\n",
        "        int_value = int(user_input)\n",
        "        print(f\"Converted to integer: {int_value}\")\n",
        "    except ValueError:\n",
        "        print(\"Cannot convert to integer.\")\n",
        "\n",
        "    try:\n",
        "        float_value = float(user_input)\n",
        "        print(f\"Converted to float: {float_value}\")\n",
        "    except ValueError:\n",
        "        print(\"Cannot convert to float.\")\n",
        "\n",
        "    if user_input.lower() in ['true', '1', 't', 'y', 'yes']:\n",
        "        bool_value = True\n",
        "    elif user_input.lower() in ['false', '0', 'f', 'n', 'no']:\n",
        "        bool_value = False\n",
        "    else:\n",
        "        bool_value = False\n",
        "    print(f\"Converted to boolean: {bool_value}\")\n",
        "\n",
        "convert_user_input()\n"
      ],
      "metadata": {
        "id": "CJg9zFGl92YP",
        "outputId": "460b5f5d-ffd1-4864-c959-400b6a40edb4",
        "colab": {
          "base_uri": "https://localhost:8080/",
          "height": 0
        }
      },
      "execution_count": 15,
      "outputs": [
        {
          "output_type": "stream",
          "name": "stdout",
          "text": [
            "Enter a value: 3.14\n",
            "Cannot convert to integer.\n",
            "Converted to float: 3.14\n",
            "Converted to boolean: False\n"
          ]
        }
      ]
    },
    {
      "cell_type": "code",
      "source": [
        "def convert_user_input():\n",
        "\n",
        "    user_input = input(\"Enter a value: \")\n",
        "\n",
        "    try:\n",
        "        int_value = int(user_input)\n",
        "        print(f\"Converted to integer: {int_value}\")\n",
        "    except ValueError:\n",
        "        print(\"Cannot convert to integer.\")\n",
        "\n",
        "    try:\n",
        "        float_value = float(user_input)\n",
        "        print(f\"Converted to float: {float_value}\")\n",
        "    except ValueError:\n",
        "        print(\"Cannot convert to float.\")\n",
        "\n",
        "    if user_input.lower() in ['true', '1', 't', 'y', 'yes']:\n",
        "        bool_value = True\n",
        "    elif user_input.lower() in ['false', '0', 'f', 'n', 'no']:\n",
        "        bool_value = False\n",
        "    else:\n",
        "        bool_value = False\n",
        "    print(f\"Converted to boolean: {bool_value}\")\n",
        "\n",
        "convert_user_input()\n"
      ],
      "metadata": {
        "outputId": "9ee1168f-57a7-4097-9f90-c4243d193a6a",
        "colab": {
          "base_uri": "https://localhost:8080/",
          "height": 0
        },
        "id": "xutgmhMd92-d"
      },
      "execution_count": 14,
      "outputs": [
        {
          "output_type": "stream",
          "name": "stdout",
          "text": [
            "Enter a value: true\n",
            "Cannot convert to integer.\n",
            "Cannot convert to float.\n",
            "Converted to boolean: True\n"
          ]
        }
      ]
    },
    {
      "cell_type": "code",
      "source": [
        "def convert_user_input():\n",
        "\n",
        "    user_input = input(\"Enter a value: \")\n",
        "\n",
        "    try:\n",
        "        int_value = int(user_input)\n",
        "        print(f\"Converted to integer: {int_value}\")\n",
        "    except ValueError:\n",
        "        print(\"Cannot convert to integer.\")\n",
        "\n",
        "    try:\n",
        "        float_value = float(user_input)\n",
        "        print(f\"Converted to float: {float_value}\")\n",
        "    except ValueError:\n",
        "        print(\"Cannot convert to float.\")\n",
        "\n",
        "    if user_input.lower() in ['true', '1', 't', 'y', 'yes']:\n",
        "        bool_value = True\n",
        "    elif user_input.lower() in ['false', '0', 'f', 'n', 'no']:\n",
        "        bool_value = False\n",
        "    else:\n",
        "        bool_value = False\n",
        "    print(f\"Converted to boolean: {bool_value}\")\n",
        "\n",
        "convert_user_input()\n"
      ],
      "metadata": {
        "id": "L_gxdNCr-l7C",
        "outputId": "4774dee7-c2b0-48f0-827b-b28cdd48c28f",
        "colab": {
          "base_uri": "https://localhost:8080/",
          "height": 0
        }
      },
      "execution_count": 16,
      "outputs": [
        {
          "output_type": "stream",
          "name": "stdout",
          "text": [
            "Enter a value: yes\n",
            "Cannot convert to integer.\n",
            "Cannot convert to float.\n",
            "Converted to boolean: True\n"
          ]
        }
      ]
    },
    {
      "cell_type": "markdown",
      "source": [
        "**10.  Write code to demonstrate type casting with list elements.**"
      ],
      "metadata": {
        "id": "f8SRXW-AGF7s"
      }
    },
    {
      "cell_type": "code",
      "source": [
        "def demonstrate_type_casting():\n",
        "\n",
        "    str_list = [\"10\", \"20.5\", \"30\", \"True\", \"False\"]\n",
        "\n",
        "    print(\"Original list (string values):\", str_list)\n",
        "\n",
        "    try:\n",
        "        int_list = [int(item) for item in str_list]\n",
        "        print(\"Converted to integer list:\", int_list)\n",
        "    except ValueError as e:\n",
        "        print(\"Error converting to integer:\", e)\n",
        "\n",
        "    try:\n",
        "        float_list = [float(item) for item in str_list]\n",
        "        print(\"Converted to float list:\", float_list)\n",
        "    except ValueError as e:\n",
        "        print(\"Error converting to float:\", e)\n",
        "\n",
        "    bool_list = [item.lower() in [\"true\", \"1\"] for item in str_list]\n",
        "    print(\"Converted to boolean list:\", bool_list)\n",
        "\n",
        "\n",
        "demonstrate_type_casting()\n"
      ],
      "metadata": {
        "id": "APyVWp0y-9dg",
        "outputId": "43350e4b-d4f7-4b8d-e45a-d1a28d6f583d",
        "colab": {
          "base_uri": "https://localhost:8080/",
          "height": 0
        }
      },
      "execution_count": 17,
      "outputs": [
        {
          "output_type": "stream",
          "name": "stdout",
          "text": [
            "Original list (string values): ['10', '20.5', '30', 'True', 'False']\n",
            "Error converting to integer: invalid literal for int() with base 10: '20.5'\n",
            "Error converting to float: could not convert string to float: 'True'\n",
            "Converted to boolean list: [False, False, False, True, False]\n"
          ]
        }
      ]
    },
    {
      "cell_type": "markdown",
      "source": [
        "**11.  Write a program that checks if a number is positive, negative, or zero**"
      ],
      "metadata": {
        "id": "AV4GxDf2GQsO"
      }
    },
    {
      "cell_type": "code",
      "source": [
        "def check_number():\n",
        "\n",
        "    num = float(input(\"Enter a number: \"))\n",
        "\n",
        "    if num > 0:\n",
        "        print(\"The number is positive.\")\n",
        "    elif num < 0:\n",
        "        print(\"The number is negative.\")\n",
        "    else:\n",
        "        print(\"The number is zero.\")\n",
        "\n",
        "check_number()\n"
      ],
      "metadata": {
        "colab": {
          "base_uri": "https://localhost:8080/",
          "height": 0
        },
        "id": "zcTpI4tJ_fTe",
        "outputId": "7f58fa91-a2d3-4dcf-cc37-b441bc267266"
      },
      "execution_count": 19,
      "outputs": [
        {
          "output_type": "stream",
          "name": "stdout",
          "text": [
            "Enter a number: 5\n",
            "The number is positive.\n"
          ]
        }
      ]
    },
    {
      "cell_type": "code",
      "source": [],
      "metadata": {
        "id": "S9cjqMo2A52t"
      },
      "execution_count": null,
      "outputs": []
    },
    {
      "cell_type": "code",
      "source": [
        "def check_number():\n",
        "\n",
        "    num = float(input(\"Enter a number: \"))\n",
        "\n",
        "    if num > 0:\n",
        "        print(\"The number is positive.\")\n",
        "    elif num < 0:\n",
        "        print(\"The number is negative.\")\n",
        "    else:\n",
        "        print(\"The number is zero.\")\n",
        "\n",
        "check_number()\n"
      ],
      "metadata": {
        "outputId": "d790ee8c-febe-41bd-8037-846e5bb03946",
        "colab": {
          "base_uri": "https://localhost:8080/",
          "height": 0
        },
        "id": "D0T7eePGBB2d"
      },
      "execution_count": 20,
      "outputs": [
        {
          "output_type": "stream",
          "name": "stdout",
          "text": [
            "Enter a number: -3.2\n",
            "The number is negative.\n"
          ]
        }
      ]
    },
    {
      "cell_type": "code",
      "source": [
        "def check_number():\n",
        "\n",
        "    num = float(input(\"Enter a number: \"))\n",
        "\n",
        "    if num > 0:\n",
        "        print(\"The number is positive.\")\n",
        "    elif num < 0:\n",
        "        print(\"The number is negative.\")\n",
        "    else:\n",
        "        print(\"The number is zero.\")\n",
        "\n",
        "check_number()\n"
      ],
      "metadata": {
        "id": "e3AsN3K2BIdF",
        "outputId": "ad2a6b95-d8dc-4647-8149-ef484d09be76",
        "colab": {
          "base_uri": "https://localhost:8080/",
          "height": 0
        }
      },
      "execution_count": 21,
      "outputs": [
        {
          "output_type": "stream",
          "name": "stdout",
          "text": [
            "Enter a number: 0\n",
            "The number is zero.\n"
          ]
        }
      ]
    },
    {
      "cell_type": "markdown",
      "source": [
        "**12.  Write a for loop to print numbers from 1 to 100.**"
      ],
      "metadata": {
        "id": "c1-u_ZQYGd2u"
      }
    },
    {
      "cell_type": "code",
      "source": [
        "\n",
        "for number in range(1, 101):\n",
        "    print(number)"
      ],
      "metadata": {
        "colab": {
          "base_uri": "https://localhost:8080/",
          "height": 0
        },
        "id": "u3PQ9k7nDtr5",
        "outputId": "5b058e03-35ff-45bf-f024-e55c896cecc9"
      },
      "execution_count": 1,
      "outputs": [
        {
          "output_type": "stream",
          "name": "stdout",
          "text": [
            "1\n",
            "2\n",
            "3\n",
            "4\n",
            "5\n",
            "6\n",
            "7\n",
            "8\n",
            "9\n",
            "10\n",
            "11\n",
            "12\n",
            "13\n",
            "14\n",
            "15\n",
            "16\n",
            "17\n",
            "18\n",
            "19\n",
            "20\n",
            "21\n",
            "22\n",
            "23\n",
            "24\n",
            "25\n",
            "26\n",
            "27\n",
            "28\n",
            "29\n",
            "30\n",
            "31\n",
            "32\n",
            "33\n",
            "34\n",
            "35\n",
            "36\n",
            "37\n",
            "38\n",
            "39\n",
            "40\n",
            "41\n",
            "42\n",
            "43\n",
            "44\n",
            "45\n",
            "46\n",
            "47\n",
            "48\n",
            "49\n",
            "50\n",
            "51\n",
            "52\n",
            "53\n",
            "54\n",
            "55\n",
            "56\n",
            "57\n",
            "58\n",
            "59\n",
            "60\n",
            "61\n",
            "62\n",
            "63\n",
            "64\n",
            "65\n",
            "66\n",
            "67\n",
            "68\n",
            "69\n",
            "70\n",
            "71\n",
            "72\n",
            "73\n",
            "74\n",
            "75\n",
            "76\n",
            "77\n",
            "78\n",
            "79\n",
            "80\n",
            "81\n",
            "82\n",
            "83\n",
            "84\n",
            "85\n",
            "86\n",
            "87\n",
            "88\n",
            "89\n",
            "90\n",
            "91\n",
            "92\n",
            "93\n",
            "94\n",
            "95\n",
            "96\n",
            "97\n",
            "98\n",
            "99\n",
            "100\n"
          ]
        }
      ]
    },
    {
      "cell_type": "markdown",
      "source": [
        "**13. Write a Python program to find the sum of all even numbers between 1 and 500.**"
      ],
      "metadata": {
        "id": "uuJ5L7f1GoZm"
      }
    },
    {
      "cell_type": "code",
      "source": [
        "\n",
        "sum_of_evens = 0\n",
        "\n",
        "for number in range(1, 501):\n",
        "\n",
        "   if number % 2 == 0:\n",
        "\n",
        "\n",
        "     sum_of_evens += number\n",
        "\n",
        "print(\"The sum of all even numbers between 1 and 500 is:\", sum_of_evens)"
      ],
      "metadata": {
        "colab": {
          "base_uri": "https://localhost:8080/",
          "height": 0
        },
        "id": "tNS5FMZgEA5X",
        "outputId": "cbfed42d-5d11-47f8-de24-83c031331656"
      },
      "execution_count": 24,
      "outputs": [
        {
          "output_type": "stream",
          "name": "stdout",
          "text": [
            "The sum of all even numbers between 1 and 500 is: 62750\n"
          ]
        }
      ]
    },
    {
      "cell_type": "markdown",
      "source": [
        "**14.  Write a program to reverse a string using a while loop.**"
      ],
      "metadata": {
        "id": "qliBT00cG1zS"
      }
    },
    {
      "cell_type": "code",
      "source": [
        "\n",
        "input_string = \"Hello, World!\"\n",
        "\n",
        "reversed_string = \"\"\n",
        "index = len(input_string) - 1\n",
        "\n",
        "while index >= 0:\n",
        "    reversed_string += input_string[index]\n",
        "    index -= 1\n",
        "\n",
        "print(\"Original String:\", input_string)\n",
        "print(\"Reversed String:\", reversed_string)"
      ],
      "metadata": {
        "colab": {
          "base_uri": "https://localhost:8080/",
          "height": 0
        },
        "id": "1Fx4iDllEUMb",
        "outputId": "ab530f27-9744-42d9-8b13-eb4f091ee4c7"
      },
      "execution_count": 25,
      "outputs": [
        {
          "output_type": "stream",
          "name": "stdout",
          "text": [
            "Original String: Hello, World!\n",
            "Reversed String: !dlroW ,olleH\n"
          ]
        }
      ]
    },
    {
      "cell_type": "markdown",
      "source": [
        "**15. Write a Python program to calculate the factorial of a number provided by the user using a while loop**."
      ],
      "metadata": {
        "id": "SBnu_qmSHBYw"
      }
    },
    {
      "cell_type": "code",
      "source": [
        "\n",
        "number = int(input(\"Enter a number to calculate its factorial: \"))\n",
        "\n",
        "factorial = 1\n",
        "i = 1\n",
        "\n",
        "while i <= number:\n",
        "    factorial *= i\n",
        "    i += 1\n",
        "\n",
        "print(f\"The factorial of {number} is: {factorial}\")"
      ],
      "metadata": {
        "colab": {
          "base_uri": "https://localhost:8080/",
          "height": 0
        },
        "id": "C7t_vCkmErxb",
        "outputId": "918451f4-ffdd-4501-90fb-9f7063fae494"
      },
      "execution_count": 27,
      "outputs": [
        {
          "output_type": "stream",
          "name": "stdout",
          "text": [
            "Enter a number to calculate its factorial: 7\n",
            "The factorial of 7 is: 5040\n"
          ]
        }
      ]
    }
  ]
}